{
 "cells": [
  {
   "cell_type": "markdown",
   "id": "17f9e84b-8bac-4f22-a061-10aee5fed524",
   "metadata": {},
   "source": [
    "# 제목1\n",
    "내용\n",
    "## 제목2\n",
    "### 제목3\n",
    "#### 제목4\n",
    "##### 제목5\n",
    "\n",
    "* 개요1\n",
    "* 개요2\n",
    "* 개요3\n",
    "\n",
    "필기할 내용1  \n",
    "필기할 내용2"
   ]
  },
  {
   "cell_type": "code",
   "execution_count": 8,
   "id": "15c06388-7b6b-41eb-a83d-c8e8e340ff3a",
   "metadata": {},
   "outputs": [
    {
     "name": "stdout",
     "output_type": "stream",
     "text": [
      "10\n"
     ]
    }
   ],
   "source": [
    "# 정수형 자료형  // 변수 a에 10을 넣어라. // 변수에는 하나의 값만 저장됨\n",
    "a = 5\n",
    "a = 10\n",
    "print(a)"
   ]
  },
  {
   "cell_type": "code",
   "execution_count": 13,
   "id": "8ca0f74e-816b-4f24-8dff-0b28eedf41e4",
   "metadata": {},
   "outputs": [
    {
     "name": "stdout",
     "output_type": "stream",
     "text": [
      "3\n",
      "10\n",
      "10\n"
     ]
    }
   ],
   "source": [
    "a = 0b11  # 2진법\n",
    "print(a)\n",
    "\n",
    "b = 0o12  # 8진법\n",
    "print(b)\n",
    "\n",
    "c = 0xA  # 16진법\n",
    "print(c)"
   ]
  },
  {
   "cell_type": "code",
   "execution_count": 15,
   "id": "89de2eb7-e3e4-4b23-b614-ce078216a1f1",
   "metadata": {},
   "outputs": [
    {
     "name": "stdout",
     "output_type": "stream",
     "text": [
      "8.14\n"
     ]
    }
   ],
   "source": [
    "a = 3.14\n",
    "b = 5\n",
    "print(a + b)"
   ]
  },
  {
   "cell_type": "code",
   "execution_count": 19,
   "id": "d0957449-5a94-406f-8056-e9bba922466b",
   "metadata": {},
   "outputs": [
    {
     "name": "stdout",
     "output_type": "stream",
     "text": [
      "20000.0\n",
      "120000000.0\n",
      "3.14e-07\n"
     ]
    }
   ],
   "source": [
    "# 지수 표현\n",
    "print(1.2e8) \n",
    "print(3.14e-7)"
   ]
  },
  {
   "cell_type": "code",
   "execution_count": 31,
   "id": "953f6d52-95f7-4592-9bfc-a2fdfe2d9174",
   "metadata": {},
   "outputs": [
    {
     "name": "stdout",
     "output_type": "stream",
     "text": [
      "(4+2j)\n",
      "(2-3j)\n"
     ]
    }
   ],
   "source": [
    "# 복소수\n",
    "a = 4 + 2j\n",
    "b = 2 - 3j\n",
    "\n",
    "print(a)\n",
    "print(b)"
   ]
  },
  {
   "cell_type": "code",
   "execution_count": 35,
   "id": "f8e0680e-6098-4908-b719-3870f015636d",
   "metadata": {},
   "outputs": [
    {
     "name": "stdout",
     "output_type": "stream",
     "text": [
      "4.0\n",
      "2.0\n",
      "(6-1j)\n",
      "(2+5j)\n"
     ]
    }
   ],
   "source": [
    "print(a.real)\n",
    "print(a.imag)\n",
    "\n",
    "print(a+b)\n",
    "print(a-b)"
   ]
  },
  {
   "cell_type": "code",
   "execution_count": 38,
   "id": "d0bbc433-3d06-4a46-a9d1-9429d68828bd",
   "metadata": {},
   "outputs": [
    {
     "name": "stdout",
     "output_type": "stream",
     "text": [
      "0.3\n"
     ]
    }
   ],
   "source": [
    "# decimal 라는 라이브러리로부터 Decimal 라는 함수를 가져와라.\n",
    "from decimal import Decimal\n",
    "0.1 + 0.2\n",
    "\n",
    "a = Decimal(\"0.1\")\n",
    "b = Decimal(\"0.2\")\n",
    "print(a+b)"
   ]
  },
  {
   "cell_type": "code",
   "execution_count": 42,
   "id": "6014384f-3bfe-4c85-86c9-fcfed5aa9836",
   "metadata": {},
   "outputs": [
    {
     "name": "stdout",
     "output_type": "stream",
     "text": [
      "13/21\n",
      "13 21\n"
     ]
    }
   ],
   "source": [
    "# 분수 계산\n",
    "from fractions import Fraction\n",
    "\n",
    "a = Fraction(1,3)\n",
    "b = Fraction(2,7)\n",
    "c = a + b\n",
    "\n",
    "print(c)\n",
    "print(c.numerator, c.denominator)"
   ]
  },
  {
   "cell_type": "code",
   "execution_count": 43,
   "id": "650d1069-b568-4f7b-97ea-53ec84e924cf",
   "metadata": {},
   "outputs": [
    {
     "name": "stdout",
     "output_type": "stream",
     "text": [
      "13\n",
      "7\n",
      "30\n",
      "3.3333333333333335\n",
      "1000\n",
      "3\n",
      "1\n"
     ]
    }
   ],
   "source": [
    "# 연산자 활용\n",
    "\n",
    "a = 10\n",
    "b = 3\n",
    "\n",
    "print(a+b)\n",
    "print(a-b)\n",
    "print(a*b)\n",
    "print(a/b)\n",
    "print(a ** b)  # a의 b제곱\n",
    "print(a // b)  # a를 b로 나누었을 때 몫\n",
    "print(a % b)  # a를 b로 나누었을 때 나머지"
   ]
  },
  {
   "cell_type": "code",
   "execution_count": 48,
   "id": "a09556f4-b041-4f3f-8207-aef135a56737",
   "metadata": {},
   "outputs": [
    {
     "name": "stdout",
     "output_type": "stream",
     "text": [
      "5\n",
      "3.14\n"
     ]
    }
   ],
   "source": [
    "print(abs(-5))  # 절대값\n",
    "print(round(3.141592, 2))  # 반올림 (2자리까지)"
   ]
  },
  {
   "cell_type": "code",
   "execution_count": 55,
   "id": "426de92e-bbfb-46ef-acbb-1f85c60b9633",
   "metadata": {},
   "outputs": [
    {
     "data": {
      "text/plain": [
       "12300"
      ]
     },
     "execution_count": 55,
     "metadata": {},
     "output_type": "execute_result"
    }
   ],
   "source": [
    "round(12345, -2)"
   ]
  },
  {
   "cell_type": "code",
   "execution_count": 61,
   "id": "4d0df5f9-07b0-4c97-817f-fb577eefb1c6",
   "metadata": {},
   "outputs": [
    {
     "name": "stdout",
     "output_type": "stream",
     "text": [
      "15\n",
      "5\n",
      "1\n"
     ]
    }
   ],
   "source": [
    "print(sum([1,2,3,4,5]))  # 총합\n",
    "print(max([1,2,3,4,5]))  # 최대값\n",
    "print(min([1,2,3,4,5]))  # 최소값"
   ]
  },
  {
   "cell_type": "code",
   "execution_count": null,
   "id": "f1344d9b-d272-4adc-a848-c070cb39d028",
   "metadata": {},
   "outputs": [],
   "source": [
    "## 메롤ㅇ메롱\n",
    "# 02.28 주피터 코드 수정\n",
    "# 깃허브"
   ]
  }
 ],
 "metadata": {
  "kernelspec": {
   "display_name": "Python 3 (ipykernel)",
   "language": "python",
   "name": "python3"
  },
  "language_info": {
   "codemirror_mode": {
    "name": "ipython",
    "version": 3
   },
   "file_extension": ".py",
   "mimetype": "text/x-python",
   "name": "python",
   "nbconvert_exporter": "python",
   "pygments_lexer": "ipython3",
   "version": "3.12.7"
  }
 },
 "nbformat": 4,
 "nbformat_minor": 5
}
